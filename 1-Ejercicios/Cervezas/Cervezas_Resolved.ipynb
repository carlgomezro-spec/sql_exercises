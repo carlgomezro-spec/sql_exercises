{
 "cells": [
  {
   "cell_type": "markdown",
   "metadata": {},
   "source": [
    "## 1. Configuración del entorno\n",
    "En este taller usaremos también *Pandas*, que es el módulo para tratamiento de datos tabular que más se usa en Python.\n",
    "\n",
    "Importamos ambos paquetes"
   ]
  },
  {
   "cell_type": "code",
   "execution_count": 1,
   "metadata": {},
   "outputs": [],
   "source": [
    "import pandas as pd\n",
    "import sqlite3"
   ]
  },
  {
   "cell_type": "markdown",
   "metadata": {},
   "source": [
    "Lo primero que hacemos es **establecer conexión con la base de datos**. En este taller simplemente leeremos la base de datos de un archivo, pero lo normal es que tengamos que configurar la conexión a una base de datos de la empresa. Para ello existen otras librerías como `pyodbc` en el caso de un SQLServer o `cx_Oracle`, si el servidor es Oracle.\n",
    "\n",
    "**¡Asegurate que tienes el archivo chinook.db en la ruta donde se encuentra este Notebook!**"
   ]
  },
  {
   "cell_type": "code",
   "execution_count": 2,
   "metadata": {},
   "outputs": [
    {
     "data": {
      "text/plain": [
       "'/Users/carlosgomez/Desktop/the-bridge/sql_exercises/1-Ejercicios/Cervezas'"
      ]
     },
     "execution_count": 2,
     "metadata": {},
     "output_type": "execute_result"
    }
   ],
   "source": [
    "import os\n",
    "os.getcwd()"
   ]
  },
  {
   "cell_type": "code",
   "execution_count": 3,
   "metadata": {},
   "outputs": [],
   "source": [
    "# Conectamos con la base de datos chinook.db\n",
    "connection = sqlite3.connect(\"database.db\")\n",
    "\n",
    "# Obtenemos un cursor que utilizaremos para hacer las queries\n",
    "crsr = connection.cursor()"
   ]
  },
  {
   "cell_type": "code",
   "execution_count": 4,
   "metadata": {},
   "outputs": [],
   "source": [
    "# Con esta función leemos los datos y lo pasamos a un DataFrame de Pandas\n",
    "def sql_query(query):\n",
    "\n",
    "    # Ejecuta la query\n",
    "    crsr.execute(query)\n",
    "\n",
    "    # Almacena los datos de la query \n",
    "    ans = crsr.fetchall()\n",
    "\n",
    "    # Obtenemos los nombres de las columnas de la tabla\n",
    "    names = [description[0] for description in crsr.description]\n",
    "\n",
    "    return pd.DataFrame(ans,columns=names)"
   ]
  },
  {
   "cell_type": "code",
   "execution_count": 5,
   "metadata": {},
   "outputs": [],
   "source": [
    "# Conectamos con la base de datos \n",
    "connection = sqlite3.connect(\"database.db\")\n",
    "\n",
    "crsr = connection.cursor()"
   ]
  },
  {
   "cell_type": "markdown",
   "metadata": {},
   "source": [
    "Creamos la tabla"
   ]
  },
  {
   "cell_type": "code",
   "execution_count": null,
   "metadata": {},
   "outputs": [
    {
     "data": {
      "text/plain": [
       "<sqlite3.Cursor at 0x104d60e40>"
      ]
     },
     "execution_count": 6,
     "metadata": {},
     "output_type": "execute_result"
    }
   ],
   "source": [
    "query = ('''\n",
    "    CREATE TABLE IF NOT EXISTS cervezas (\n",
    "        CodE INTEGER PRIMARY KEY,\n",
    "        CodB TEXT,\n",
    "        CodC TEXT,\n",
    "        Fecha DATE,\n",
    "        Cantidad INT\n",
    "    )\n",
    "''')\n",
    "\n",
    "crsr.execute(query)\n"
   ]
  },
  {
   "cell_type": "code",
   "execution_count": null,
   "metadata": {},
   "outputs": [
    {
     "data": {
      "text/plain": [
       "<sqlite3.Cursor at 0x104d60e40>"
      ]
     },
     "execution_count": 7,
     "metadata": {},
     "output_type": "execute_result"
    }
   ],
   "source": [
    "query = ('''\n",
    "CREATE TABLE IF NOT EXISTS bares (\n",
    "    CodB VARCHAR(2),\n",
    "    Nombre VARCHAR(32),\n",
    "    Cif VARCHAR(32),\n",
    "    Localidad VARCHAR(32),\n",
    "    PRIMARY KEY (CodB)\n",
    ")\n",
    "''')\n",
    "crsr.execute(query)\n"
   ]
  },
  {
   "cell_type": "code",
   "execution_count": null,
   "metadata": {},
   "outputs": [
    {
     "ename": "OperationalError",
     "evalue": "near \"(\": syntax error",
     "output_type": "error",
     "traceback": [
      "\u001b[31m---------------------------------------------------------------------------\u001b[39m",
      "\u001b[31mOperationalError\u001b[39m                          Traceback (most recent call last)",
      "\u001b[36mCell\u001b[39m\u001b[36m \u001b[39m\u001b[32mIn[8]\u001b[39m\u001b[32m, line 1\u001b[39m\n\u001b[32m----> \u001b[39m\u001b[32m1\u001b[39m \u001b[43mcrsr\u001b[49m\u001b[43m.\u001b[49m\u001b[43mexecute\u001b[49m\u001b[43m(\u001b[49m\u001b[33;43m'''\u001b[39;49m\n\u001b[32m      2\u001b[39m \u001b[33;43mCREATE TABLE IF NOT EXISTS reparto (\u001b[39;49m\n\u001b[32m      3\u001b[39m \u001b[33;43m    CodE VARCHAR(2) NOT NULL,\u001b[39;49m\n\u001b[32m      4\u001b[39m \u001b[33;43m    CodBVARCHAR(3) NOT NULL,\u001b[39;49m\n\u001b[32m      5\u001b[39m \u001b[33;43m    CodC VARCHAR(2) NOT NULL,\u001b[39;49m\n\u001b[32m      6\u001b[39m \u001b[33;43m    Fecha DATE NOT NULL,\u001b[39;49m\n\u001b[32m      7\u001b[39m \u001b[33;43m    PRIMARY KEY (CodB)\u001b[39;49m\n\u001b[32m      8\u001b[39m \u001b[33;43m)\u001b[39;49m\n\u001b[32m      9\u001b[39m \u001b[33;43m'''\u001b[39;49m\u001b[43m)\u001b[49m\n",
      "\u001b[31mOperationalError\u001b[39m: near \"(\": syntax error"
     ]
    }
   ],
   "source": [
    "query =('''\n",
    "CREATE TABLE IF NOT EXISTS reparto (\n",
    "    CodE VARCHAR(2) NOT NULL,\n",
    "    CodBVARCHAR(3) NOT NULL,\n",
    "    CodC VARCHAR(2) NOT NULL,\n",
    "    Fecha DATE NOT NULL,\n",
    "    PRIMARY KEY (CodB)\n",
    ")\n",
    "''')\n",
    "crsr.execute(query)"
   ]
  }
 ],
 "metadata": {
  "kernelspec": {
   "display_name": "Python 3",
   "language": "python",
   "name": "python3"
  },
  "language_info": {
   "codemirror_mode": {
    "name": "ipython",
    "version": 3
   },
   "file_extension": ".py",
   "mimetype": "text/x-python",
   "name": "python",
   "nbconvert_exporter": "python",
   "pygments_lexer": "ipython3",
   "version": "3.14.0"
  }
 },
 "nbformat": 4,
 "nbformat_minor": 4
}
