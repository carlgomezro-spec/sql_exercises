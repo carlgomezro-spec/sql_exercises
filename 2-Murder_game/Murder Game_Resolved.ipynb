{
 "cells": [
  {
   "cell_type": "code",
   "execution_count": null,
   "metadata": {
    "vscode": {
     "languageId": "sql"
    }
   },
   "outputs": [],
   "source": [
    "SELECT \"date\", type,description, city\n",
    "FROM crime_scene_report\n",
    "WHERE (\"date\" = 20180115) AND \"city\" = \"SQL City\" AND \"type\" = \"murder\""
   ]
  },
  {
   "cell_type": "markdown",
   "metadata": {
    "vscode": {
     "languageId": "html"
    }
   },
   "source": [
    "Security footage shows that there were 2 witnesses. The first witness lives at the last house on \"Northwestern Dr\". The second witness, named Annabel, lives somewhere on \"Franklin Ave\".\t"
   ]
  },
  {
   "cell_type": "code",
   "execution_count": null,
   "metadata": {
    "vscode": {
     "languageId": "sql"
    }
   },
   "outputs": [],
   "source": [
    "SELECT *\n",
    "FROM person\n",
    "WHERE \"address_street_name\" = \"Franklin Ave\" AND \"name\" LIKE 'Annabel%'"
   ]
  },
  {
   "cell_type": "markdown",
   "metadata": {},
   "source": [
    "16371\tAnnabel Miller\t490173\t103\tFranklin Ave\t318771143\n"
   ]
  },
  {
   "cell_type": "code",
   "execution_count": null,
   "metadata": {
    "vscode": {
     "languageId": "sql"
    }
   },
   "outputs": [],
   "source": [
    "SELECT *\n",
    "FROM person\n",
    "WHERE \"address_street_name\" =\"Northwestern Dr\" "
   ]
  },
  {
   "cell_type": "code",
   "execution_count": null,
   "metadata": {
    "vscode": {
     "languageId": "sql"
    }
   },
   "outputs": [],
   "source": [
    "SELECT MAX(address_number)\n",
    "FROM person\n",
    "WHERE \"address_street_name\" =\"Northwestern Dr\" "
   ]
  },
  {
   "cell_type": "markdown",
   "metadata": {},
   "source": [
    "14887\tMorty Schapiro\t118009\t4919\tNorthwestern Dr\t111564949"
   ]
  },
  {
   "cell_type": "code",
   "execution_count": null,
   "metadata": {
    "vscode": {
     "languageId": "sql"
    }
   },
   "outputs": [],
   "source": [
    "SELECT *\n",
    "FROM drivers_license\n",
    "WHERE \"id\" = \"490173\""
   ]
  },
  {
   "cell_type": "code",
   "execution_count": null,
   "metadata": {
    "vscode": {
     "languageId": "sql"
    }
   },
   "outputs": [],
   "source": [
    "id\tage\theight\teye_color\thair_color\tgender\tplate_number\tcar_make\tcar_model\n",
    "490173\t35\t65\tgreen\tbrown\tfemale\t23AM98\tToyota\tYaris\n"
   ]
  },
  {
   "cell_type": "code",
   "execution_count": null,
   "metadata": {
    "vscode": {
     "languageId": "sql"
    }
   },
   "outputs": [],
   "source": [
    "SELECT *\n",
    "FROM drivers_license\n",
    "WHERE \"id\" = \"118009\""
   ]
  },
  {
   "cell_type": "code",
   "execution_count": null,
   "metadata": {
    "vscode": {
     "languageId": "sql"
    }
   },
   "outputs": [],
   "source": [
    "id\tage\theight\teye_color\thair_color\tgender\tplate_number\tcar_make\tcar_model\n",
    "118009\t64\t84\tblue\twhite\tmale\t00NU00\tMercedes-Benz\tE-Class"
   ]
  },
  {
   "cell_type": "code",
   "execution_count": null,
   "metadata": {
    "vscode": {
     "languageId": "sql"
    }
   },
   "outputs": [],
   "source": [
    "SELECT *\n",
    "FROM get_fit_now_member\n",
    "WHERE person_id = 16371"
   ]
  },
  {
   "cell_type": "markdown",
   "metadata": {},
   "source": [
    "id\tperson_id\tname\tmembership_start_date\tmembership_status\n",
    "90081\t16371\tAnnabel Miller\t20160208\tgold"
   ]
  },
  {
   "cell_type": "code",
   "execution_count": null,
   "metadata": {
    "vscode": {
     "languageId": "sql"
    }
   },
   "outputs": [],
   "source": [
    "SELECT *\n",
    "FROM facebook_event_checkin\n",
    "WHERE \"date\" = 20180115 AND \"person_id\" = 16371"
   ]
  },
  {
   "cell_type": "code",
   "execution_count": null,
   "metadata": {
    "vscode": {
     "languageId": "sql"
    }
   },
   "outputs": [],
   "source": [
    "person_id\tevent_id\tevent_name\tdate\n",
    "16371\t4719\tThe Funky Grooves Tour\t20180115"
   ]
  },
  {
   "cell_type": "code",
   "execution_count": null,
   "metadata": {
    "vscode": {
     "languageId": "sql"
    }
   },
   "outputs": [],
   "source": [
    "SELECT *\n",
    "FROM interview\n",
    "WHERE person_id = 16371"
   ]
  },
  {
   "cell_type": "code",
   "execution_count": null,
   "metadata": {
    "vscode": {
     "languageId": "sql"
    }
   },
   "outputs": [],
   "source": [
    "person_id\ttranscript\n",
    "16371\tI saw the murder happen, and I recognized the killer from my gym when I was working out last week on January the 9th."
   ]
  },
  {
   "cell_type": "code",
   "execution_count": null,
   "metadata": {
    "vscode": {
     "languageId": "sql"
    }
   },
   "outputs": [],
   "source": [
    "SELECT *\n",
    "FROM get_fit_now_member\n",
    "WHERE membership_start_date\t= 20180109"
   ]
  },
  {
   "cell_type": "code",
   "execution_count": null,
   "metadata": {
    "vscode": {
     "languageId": "sql"
    }
   },
   "outputs": [],
   "source": [
    "id\tperson_id\tname\tmembership_start_date\tmembership_status\n",
    "3OOJ1\t62367\tConcha Fiveash\t20180109\tregular\n"
   ]
  },
  {
   "cell_type": "code",
   "execution_count": null,
   "metadata": {
    "vscode": {
     "languageId": "sql"
    }
   },
   "outputs": [],
   "source": [
    "SELECT *\n",
    "FROM interview\n",
    "WHERE person_id\t= 14887\t"
   ]
  },
  {
   "cell_type": "markdown",
   "metadata": {
    "vscode": {
     "languageId": "sql"
    }
   },
   "source": [
    "person_id\ttranscript\n",
    "14887\tI heard a gunshot and then saw a man run out. He had a \"Get Fit Now Gym\" bag. The membership number on the bag started with \"48Z\". Only gold members have those bags. The man got into a car with a plate that included \"H42W\"."
   ]
  },
  {
   "cell_type": "code",
   "execution_count": null,
   "metadata": {
    "vscode": {
     "languageId": "sql"
    }
   },
   "outputs": [],
   "source": [
    "SELECT *\n",
    "FROM get_fit_now_member\n",
    "WHERE \"id\" LIKE \"48Z%\" AND \"membership_status\" = \"gold\"\n"
   ]
  },
  {
   "cell_type": "code",
   "execution_count": null,
   "metadata": {
    "vscode": {
     "languageId": "sql"
    }
   },
   "outputs": [],
   "source": [
    "id\tperson_id\tname\tmembership_start_date\tmembership_status\n",
    "48Z7A\t28819\tJoe Germuska\t20160305\tgold\n",
    "48Z55\t67318\tJeremy Bowers\t20160101\tgold"
   ]
  },
  {
   "cell_type": "code",
   "execution_count": null,
   "metadata": {
    "vscode": {
     "languageId": "sql"
    }
   },
   "outputs": [],
   "source": [
    "SELECT *\n",
    "FROM drivers_license\n",
    "WHERE \"plate_number\" LIKE \"%H42W%\""
   ]
  },
  {
   "cell_type": "code",
   "execution_count": null,
   "metadata": {
    "vscode": {
     "languageId": "sql"
    }
   },
   "outputs": [],
   "source": [
    "id\tage\theight\teye_color\thair_color\tgender\tplate_number\tcar_make\tcar_model\n",
    "183779\t21\t65\tblue\tblonde\tfemale\tH42W0X\tToyota\tPrius\n",
    "423327\t30\t70\tbrown\tbrown\tmale\t0H42W2\tChevrolet\tSpark LS\n",
    "664760\t21\t71\tblack\tblack\tmale\t4H42WR\tNissan\tAltima"
   ]
  },
  {
   "cell_type": "code",
   "execution_count": null,
   "metadata": {
    "vscode": {
     "languageId": "sql"
    }
   },
   "outputs": [],
   "source": [
    "SELECT *\n",
    "FROM get_fit_now_check_in\n",
    "WHERE \"membership_id\" = \"48Z55\""
   ]
  },
  {
   "cell_type": "code",
   "execution_count": null,
   "metadata": {
    "vscode": {
     "languageId": "sql"
    }
   },
   "outputs": [],
   "source": [
    "membership_id\tcheck_in_date\tcheck_in_time\tcheck_out_time\n",
    "48Z55\t20180109\t1530\t1700"
   ]
  },
  {
   "cell_type": "code",
   "execution_count": null,
   "metadata": {
    "vscode": {
     "languageId": "sql"
    }
   },
   "outputs": [],
   "source": [
    "POR EL DIA, FUE Jeremy Bowers"
   ]
  },
  {
   "cell_type": "code",
   "execution_count": null,
   "metadata": {
    "vscode": {
     "languageId": "sql"
    }
   },
   "outputs": [],
   "source": [
    "SELECT *\n",
    "FROM interview\n",
    "WHERE person_id = 67318"
   ]
  },
  {
   "cell_type": "markdown",
   "metadata": {
    "vscode": {
     "languageId": "sql"
    }
   },
   "source": [
    "I was hired by a woman with a lot of money. I don't know her name but I know she's around 5'5\" (65\") or 5'7\" (67\"). She has red hair and she drives a Tesla Model S. I know that she attended the SQL Symphony Concert 3 times in December 2017.\n"
   ]
  },
  {
   "cell_type": "code",
   "execution_count": null,
   "metadata": {
    "vscode": {
     "languageId": "sql"
    }
   },
   "outputs": [],
   "source": [
    "SELECT *\n",
    "FROM drivers_license\n",
    "WHERE \"hair_color\" = \"red\" AND \"car_make\" = \"Tesla\" AND \"heigh\" \n",
    " "
   ]
  },
  {
   "cell_type": "code",
   "execution_count": null,
   "metadata": {
    "vscode": {
     "languageId": "sql"
    }
   },
   "outputs": [],
   "source": [
    "id\tage\theight\teye_color\thair_color\tgender\tplate_number\tcar_make\tcar_model\n",
    "202298\t68\t66\tgreen\tred\tfemale\t500123\tTesla\tModel S\n",
    "291182\t65\t66\tblue\tred\tfemale\t08CM64\tTesla\tModel S\n",
    "736081\t79\t69\tbrown\tred\tmale\tGCAQ6Y\tTesla\tModel S\n",
    "918773\t48\t65\tblack\tred\tfemale\t917UU3\tTesla\tModel S"
   ]
  },
  {
   "cell_type": "code",
   "execution_count": null,
   "metadata": {
    "vscode": {
     "languageId": "sql"
    }
   },
   "outputs": [],
   "source": [
    "SELECT *\n",
    "FROM person\n",
    "WHERE \"license_id\" = \"918773\""
   ]
  },
  {
   "cell_type": "code",
   "execution_count": null,
   "metadata": {
    "vscode": {
     "languageId": "sql"
    }
   },
   "outputs": [],
   "source": [
    "id\tname\tlicense_id\taddress_number\taddress_street_name\tssn\n",
    "78881\tRed Korb\t918773\t107\tCamerata Dr\t961388910"
   ]
  },
  {
   "cell_type": "code",
   "execution_count": null,
   "metadata": {
    "vscode": {
     "languageId": "sql"
    }
   },
   "outputs": [],
   "source": [
    "id\tname\tlicense_id\taddress_number\taddress_street_name\tssn\n",
    "90700\tRegina George\t291182\t332\tMaple Ave\t337169072"
   ]
  },
  {
   "cell_type": "code",
   "execution_count": null,
   "metadata": {
    "vscode": {
     "languageId": "sql"
    }
   },
   "outputs": [],
   "source": [
    "id\tname\tlicense_id\taddress_number\taddress_street_name\tssn\n",
    "99716\tMiranda Priestly\t202298\t1883\tGolden Ave\t987756388"
   ]
  },
  {
   "cell_type": "code",
   "execution_count": null,
   "metadata": {
    "vscode": {
     "languageId": "sql"
    }
   },
   "outputs": [],
   "source": [
    "id\tname\tlicense_id\taddress_number\taddress_street_name\tssn\n",
    "57410\tCletus Zoeller\t736081\t2987\tKingham Way\t924648898\n"
   ]
  },
  {
   "cell_type": "code",
   "execution_count": null,
   "metadata": {
    "vscode": {
     "languageId": "sql"
    }
   },
   "outputs": [],
   "source": [
    "SELECT *\n",
    "FROM facebook_event_checkin\n",
    "WHERE person_id = 99716"
   ]
  },
  {
   "cell_type": "code",
   "execution_count": null,
   "metadata": {
    "vscode": {
     "languageId": "sql"
    }
   },
   "outputs": [],
   "source": [
    "person_id\tevent_id\tevent_name\tdate\n",
    "99716\t1143\tSQL Symphony Concert\t20171206\n",
    "99716\t1143\tSQL Symphony Concert\t20171212\n",
    "99716\t1143\tSQL Symphony Concert\t20171229"
   ]
  },
  {
   "cell_type": "code",
   "execution_count": null,
   "metadata": {
    "vscode": {
     "languageId": "sql"
    }
   },
   "outputs": [],
   "source": [
    "value\n",
    "Congrats, you found the brains behind the murder! Everyone in SQL City hails you as the greatest SQL detective of all time. Time to break out the champagne!"
   ]
  }
 ],
 "metadata": {
  "kernelspec": {
   "display_name": "Python 3",
   "language": "python",
   "name": "python3"
  },
  "language_info": {
   "codemirror_mode": {
    "name": "ipython",
    "version": 3
   },
   "file_extension": ".py",
   "mimetype": "text/x-python",
   "name": "python",
   "nbconvert_exporter": "python",
   "pygments_lexer": "ipython3",
   "version": "3.14.0"
  }
 },
 "nbformat": 4,
 "nbformat_minor": 4
}
